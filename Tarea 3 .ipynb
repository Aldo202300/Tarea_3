{
 "cells": [
  {
   "cell_type": "code",
   "execution_count": 3,
   "id": "5bbc9d7a-9baf-4521-b196-d6bf555ee3dc",
   "metadata": {},
   "outputs": [],
   "source": [
    "#Importar librerias necesarias\n",
    "\n",
    "import numpy as np\n",
    "import librosa as lib\n",
    "import matplotlib.pyplot as plt\n",
    "from IPython.display import Audio\n",
    "from scipy import signal\n",
    "from scipy.fft import fft,ifft,fftshift\n",
    "import scipy.io.wavfile as wav\n",
    "from scipy.signal import get_window"
   ]
  },
  {
   "cell_type": "code",
   "execution_count": 4,
   "id": "7e038f03-ece5-428a-9d80-86dfb2be45a2",
   "metadata": {},
   "outputs": [
    {
     "ename": "FileNotFoundError",
     "evalue": "[Errno 2] No such file or directory: 'voice-near.wav'",
     "output_type": "error",
     "traceback": [
      "\u001b[1;31m---------------------------------------------------------------------------\u001b[0m",
      "\u001b[1;31mFileNotFoundError\u001b[0m                         Traceback (most recent call last)",
      "Cell \u001b[1;32mIn[4], line 3\u001b[0m\n\u001b[0;32m      1\u001b[0m \u001b[38;5;66;03m#Se utiliza un audio de ejemplo para realizar el ventaneo y la FFT\u001b[39;00m\n\u001b[1;32m----> 3\u001b[0m sample_rate, signal \u001b[38;5;241m=\u001b[39m \u001b[43mwav\u001b[49m\u001b[38;5;241;43m.\u001b[39;49m\u001b[43mread\u001b[49m\u001b[43m(\u001b[49m\u001b[38;5;124;43m'\u001b[39;49m\u001b[38;5;124;43mvoice-near.wav\u001b[39;49m\u001b[38;5;124;43m'\u001b[39;49m\u001b[43m)\u001b[49m\n",
      "File \u001b[1;32m~\\miniconda3\\envs\\ACUS099\\lib\\site-packages\\scipy\\io\\wavfile.py:647\u001b[0m, in \u001b[0;36mread\u001b[1;34m(filename, mmap)\u001b[0m\n\u001b[0;32m    645\u001b[0m     mmap \u001b[38;5;241m=\u001b[39m \u001b[38;5;28;01mFalse\u001b[39;00m\n\u001b[0;32m    646\u001b[0m \u001b[38;5;28;01melse\u001b[39;00m:\n\u001b[1;32m--> 647\u001b[0m     fid \u001b[38;5;241m=\u001b[39m \u001b[38;5;28;43mopen\u001b[39;49m\u001b[43m(\u001b[49m\u001b[43mfilename\u001b[49m\u001b[43m,\u001b[49m\u001b[43m \u001b[49m\u001b[38;5;124;43m'\u001b[39;49m\u001b[38;5;124;43mrb\u001b[39;49m\u001b[38;5;124;43m'\u001b[39;49m\u001b[43m)\u001b[49m\n\u001b[0;32m    649\u001b[0m \u001b[38;5;28;01mtry\u001b[39;00m:\n\u001b[0;32m    650\u001b[0m     file_size, is_big_endian \u001b[38;5;241m=\u001b[39m _read_riff_chunk(fid)\n",
      "\u001b[1;31mFileNotFoundError\u001b[0m: [Errno 2] No such file or directory: 'voice-near.wav'"
     ]
    }
   ],
   "source": [
    "#Se utiliza un audio de ejemplo para realizar el ventaneo y la FFT\n",
    "\n",
    "sample_rate, signal = wav.read('voice-near.wav')"
   ]
  },
  {
   "cell_type": "code",
   "execution_count": null,
   "id": "8d4131f2-5fcf-4ccc-b3f3-cb4abdea8014",
   "metadata": {},
   "outputs": [],
   "source": [
    "# Crear un vector de tiempo para la señal\n",
    "\n",
    "time = np.linspace(0, len(signal) / sample_rate, num=len(signal))"
   ]
  },
  {
   "cell_type": "code",
   "execution_count": null,
   "id": "057aaadf-0c8f-4a99-b66c-042a7f5defae",
   "metadata": {},
   "outputs": [],
   "source": [
    "# Función para ventanear la señal\n",
    "def ventana_signal(signal, frame_size, overlap, window_type):\n",
    "    step_size = int(frame_size * (1 - overlap))\n",
    "    num_frames = (len(signal) - frame_size) // step_size + 1\n",
    "    window = get_window(window_type, frame_size)\n",
    "    \n",
    "    frames = np.zeros((num_frames, frame_size))\n",
    "    \n",
    "    for i in range(num_frames):\n",
    "        start = i * step_size\n",
    "        end = start + frame_size\n",
    "        frames[i, :] = signal[start:end] * window\n",
    "    \n",
    "    return frames\n",
    "\n",
    "# Definir largo del FRAME\n",
    "frame_size = 1024        # Tamaño del frame en muestras\n",
    "overlap = 0.5            # Porcentaje de traslape (50%)\n",
    "window_type = 'hann'     # Tipo de ventana\n",
    "\n",
    "# Aplicar la función de ventaneo\n",
    "frames = ventana_signal(signal, frame_size, overlap, window_type)\n",
    "\n",
    "# Crear un vector de tiempo para la señal original\n",
    "time = np.linspace(0, len(signal) / sample_rate, num=len(signal))\n",
    "\n",
    "# Plotear la forma de onda temporal\n",
    "plt.figure(figsize=(8, 6))\n",
    "plt.plot(time, signal)\n",
    "plt.title('Forma de Onda Temporal')\n",
    "plt.xlabel('Tiempo [s]')\n",
    "plt.ylabel('Amplitud')\n",
    "plt.show()\n",
    "\n",
    "# Plotear el primer frame ventaneado\n",
    "plt.figure(figsize=(8, 6))\n",
    "plt.plot(frames[800])\n",
    "plt.title('Primer Frame Ventaneado')\n",
    "plt.xlabel('Muestras')\n",
    "plt.ylabel('Amplitud')\n",
    "plt.show()"
   ]
  },
  {
   "cell_type": "code",
   "execution_count": null,
   "id": "e3cb6ec9-a8fd-4dd8-bd11-d18ea17d26a1",
   "metadata": {},
   "outputs": [],
   "source": [
    "#Aplicar la FFT \n",
    "matrizfft=fft(frames,n=frame_size,axis=1)\n",
    "#Su magnitud\n",
    "magmatrizfft=np.abs(matrizfft)\n",
    "\n",
    "#Plotear la magnitud\n",
    "frame=800\n",
    "plt.figure(figsize=(8, 6))\n",
    "b=np.linspace(0,signal//2,frame_size//2)\n",
    "plt.plot(b,magmatrizfft[frame,0:frame_size//2]);\n",
    "plt.title(\"Espectograma frame 800\")\n",
    "plt.xlabel(\"Frecuencia (Hz)\");\n",
    "plt.ylabel(\"Amplitud\");"
   ]
  },
  {
   "cell_type": "code",
   "execution_count": null,
   "id": "9a03c645-c5ca-49fd-83d9-bbb13bd687df",
   "metadata": {},
   "outputs": [],
   "source": [
    "# Plotear todos los frames ventaneados (superpuestos)\n",
    "plt.figure(figsize=(12, 6))\n",
    "for i in range(frames.shape[0]):\n",
    "    plt.plot(frames[i])\n",
    "plt.title('Todos los Frames Ventaneados')\n",
    "plt.xlabel('Muestras')\n",
    "plt.ylabel('Amplitud')\n",
    "plt.show()"
   ]
  },
  {
   "cell_type": "code",
   "execution_count": null,
   "id": "0a4b3ac8-aa78-4853-b28e-0312306cbb91",
   "metadata": {},
   "outputs": [],
   "source": []
  },
  {
   "cell_type": "code",
   "execution_count": null,
   "id": "c49fc436-67d5-417e-9a05-a910aa89de19",
   "metadata": {},
   "outputs": [],
   "source": []
  },
  {
   "cell_type": "code",
   "execution_count": null,
   "id": "761cbd7b-c269-4ec5-acfe-2e233a03533b",
   "metadata": {},
   "outputs": [],
   "source": []
  },
  {
   "cell_type": "code",
   "execution_count": null,
   "id": "2281590c-11f7-4e41-9824-569a1bbd4d57",
   "metadata": {},
   "outputs": [],
   "source": []
  },
  {
   "cell_type": "code",
   "execution_count": null,
   "id": "53768c9b-5a20-4cb1-a426-b399d670c6ea",
   "metadata": {},
   "outputs": [],
   "source": []
  }
 ],
 "metadata": {
  "kernelspec": {
   "display_name": "ACUS099",
   "language": "python",
   "name": "acus099"
  },
  "language_info": {
   "codemirror_mode": {
    "name": "ipython",
    "version": 3
   },
   "file_extension": ".py",
   "mimetype": "text/x-python",
   "name": "python",
   "nbconvert_exporter": "python",
   "pygments_lexer": "ipython3",
   "version": "3.9.19"
  }
 },
 "nbformat": 4,
 "nbformat_minor": 5
}
